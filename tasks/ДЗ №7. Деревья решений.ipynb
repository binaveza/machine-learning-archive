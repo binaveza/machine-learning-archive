{
 "cells": [
  {
   "cell_type": "markdown",
   "metadata": {},
   "source": [
    "# Домашняя работа №6. Деревья решений"
   ]
  },
  {
   "cell_type": "markdown",
   "metadata": {},
   "source": [
    "Цель работы: Обучить модель Деревья решений."
   ]
  },
  {
   "cell_type": "markdown",
   "metadata": {},
   "source": [
    "### Работа с набором данных для задачи классификации (целевая переменная - класс объекта)"
   ]
  },
  {
   "cell_type": "markdown",
   "metadata": {},
   "source": [
    "## Задание №1"
   ]
  },
  {
   "cell_type": "markdown",
   "metadata": {},
   "source": [
    "Использовать подготовленный в ДЗ5 набор данных"
   ]
  },
  {
   "cell_type": "markdown",
   "metadata": {},
   "source": [
    "## Задание №2"
   ]
  },
  {
   "cell_type": "markdown",
   "metadata": {},
   "source": [
    "#### Обучение модели \n",
    "* Обучите модель деревья решений в Sklearn с параметрами по умолчанию.\n",
    "* Вычислить метрики recall, precision, f1 на тренировочной и тестовой выборках.\n",
    "* Сделать вывод о качестве обученной модели."
   ]
  },
  {
   "cell_type": "markdown",
   "metadata": {},
   "source": [
    "## Задание №3"
   ]
  },
  {
   "cell_type": "markdown",
   "metadata": {},
   "source": [
    "#### Настройка гиперпараметров модели\n",
    "* С помощью GridSearch подобрать оптимальные гиперпараметры (максимальную глубину дерева, минимальное количество листьев)\n",
    "* Вычислить метрики полученной модели (f1, recall, precision).\n",
    "* Сделать вывод о качестве обученной модели.\n",
    "* Построить график ROC-кривой."
   ]
  }
 ],
 "metadata": {
  "language_info": {
   "name": "python"
  }
 },
 "nbformat": 4,
 "nbformat_minor": 2
}
